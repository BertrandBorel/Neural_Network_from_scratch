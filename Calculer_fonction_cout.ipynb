{
 "cells": [
  {
   "cell_type": "markdown",
   "id": "974a86fe",
   "metadata": {},
   "source": [
    "# <center> Calculer la fonction coût </center>\n",
    "\n",
    "\n",
    "**Source :** LECUN Y., Quand la machine apprend: la révolution des neurones artificiels et de l'apprentissage profond, Odile Jacob, Paris, 2019, ISBN:9782738149312."
   ]
  },
  {
   "cell_type": "markdown",
   "id": "2580f5db",
   "metadata": {},
   "source": [
    "## Calculer le carré de la différence entre sortie désirée - sortie obtenue\n",
    "\n",
    "`cost = (y - f(x, w)) ** 2`\n",
    "\n",
    "**Note :** Ne fonctionne que pour les scalaires, pas pour les vecteurs. "
   ]
  },
  {
   "cell_type": "code",
   "execution_count": 10,
   "id": "c06920d8",
   "metadata": {},
   "outputs": [],
   "source": [
    "# Calculer la sortie \n",
    "def output(x, w):\n",
    "    # x * weights\n",
    "    return x * w\n",
    "\n",
    "# Calculer la fonction coût\n",
    "def cost_function(y, x, w):\n",
    "    cost = (y - output(x, w)) ** 2\n",
    "    return cost"
   ]
  },
  {
   "cell_type": "code",
   "execution_count": 11,
   "id": "cb38c708",
   "metadata": {},
   "outputs": [
    {
     "data": {
      "text/plain": [
       "0.75"
      ]
     },
     "execution_count": 11,
     "metadata": {},
     "output_type": "execute_result"
    }
   ],
   "source": [
    "# sortie obtenue : x * w\n",
    "output(1.5, 0.5)"
   ]
  },
  {
   "cell_type": "code",
   "execution_count": 13,
   "id": "8711c30b",
   "metadata": {},
   "outputs": [
    {
     "data": {
      "text/plain": [
       "0.0625"
      ]
     },
     "execution_count": 13,
     "metadata": {},
     "output_type": "execute_result"
    }
   ],
   "source": [
    "# fonction coût si y = 1\n",
    "cost_function(1, 1.5, 0.5)"
   ]
  },
  {
   "cell_type": "markdown",
   "id": "82a87411",
   "metadata": {},
   "source": [
    "## Calculer la fonction coût pour des vecteurs\n",
    "\n",
    "Le coût doit mesurer la distance entre la sortie obtenue et la sortie désirée, par exemple la somme des carrés des erreurs pour les trois sorties :"
   ]
  },
  {
   "cell_type": "code",
   "execution_count": 135,
   "id": "df33dd4b",
   "metadata": {},
   "outputs": [
    {
     "name": "stdout",
     "output_type": "stream",
     "text": [
      "0.41759999999999986\n"
     ]
    }
   ],
   "source": [
    "# initialisation des valeurs\n",
    "x = [0.4, 0.9, 0.2]\n",
    "w = [0.2, 0.4, 0.2]\n",
    "y = [0.0, 1.0, 0.0]\n",
    "\n",
    "# liste vide accueillant les nouvelles valeurs\n",
    "pred = []\n",
    "\n",
    "# calculs = résultats stockés dans la liste précédente\n",
    "for i in range(len(x)):\n",
    "    calcul = x[i] * w[i]\n",
    "    pred.append(calcul)\n",
    "\n",
    "# calcul de la fonction coût \n",
    "cost = (y[0] - pred[0])**2 + (y[1] - pred[1])**2 + (y[2] - pred[2])**2\n",
    "print(cost)"
   ]
  },
  {
   "cell_type": "markdown",
   "id": "489f2cb4",
   "metadata": {},
   "source": [
    "### Exemple de vecteur : produit de `x * w`"
   ]
  },
  {
   "cell_type": "code",
   "execution_count": 54,
   "id": "a0c51f33",
   "metadata": {},
   "outputs": [
    {
     "data": {
      "text/plain": [
       "[0.08000000000000002, 0.36000000000000004, 0.04000000000000001]"
      ]
     },
     "execution_count": 54,
     "metadata": {},
     "output_type": "execute_result"
    }
   ],
   "source": [
    "output(sortie, w)"
   ]
  },
  {
   "cell_type": "markdown",
   "id": "679bdfa1",
   "metadata": {},
   "source": [
    "### Exemple de calcul `x * w`"
   ]
  },
  {
   "cell_type": "code",
   "execution_count": 58,
   "id": "5714ae1e",
   "metadata": {},
   "outputs": [
    {
     "name": "stdout",
     "output_type": "stream",
     "text": [
      "0.4  *  0.2  =  0.08000000000000002\n",
      "0.9  *  0.4  =  0.36000000000000004\n",
      "0.2  *  0.2  =  0.04000000000000001\n",
      "\n",
      "Vecteur obtenu :  [0.08000000000000002, 0.36000000000000004, 0.04000000000000001]\n"
     ]
    }
   ],
   "source": [
    "# liste accueillant les produits\n",
    "liste = []\n",
    "\n",
    "# calculs\n",
    "for i in range(len(sortie)):\n",
    "    calcul = sortie[i] * w[i]\n",
    "    print(sortie[i], \" * \", w[i], \" = \", calcul)\n",
    "    # ajout au vecteur\n",
    "    liste.append(calcul)\n",
    "\n",
    "# affichage du vecteur\n",
    "print(\"\\nVecteur obtenu : \", liste)"
   ]
  },
  {
   "cell_type": "markdown",
   "id": "35f91d7c",
   "metadata": {},
   "source": [
    "## Fonction complète"
   ]
  },
  {
   "cell_type": "code",
   "execution_count": 149,
   "id": "584eecb8",
   "metadata": {},
   "outputs": [],
   "source": [
    "# inputs\n",
    "x = [0.4, 0.9, 0.2]\n",
    "# poids\n",
    "w = [0.2, 0.4, 0.2]\n",
    "# sorties désirées\n",
    "y = [0.0, 1.0, 0.0]\n",
    "\n",
    "def output(x, w):\n",
    "    vecteur = []\n",
    "    for i in range(len(x)):\n",
    "        calcul = x[i] * w[i]\n",
    "        vecteur.append(calcul)\n",
    "\n",
    "    return liste\n",
    "\n",
    "def cost(y, x, w):\n",
    "    # calcul de la sortie\n",
    "    pred = output(x, w)\n",
    "    \n",
    "    # coût initialisé à 0\n",
    "    c = 0\n",
    "    \n",
    "    # calculs de c\n",
    "    for i in range(len(y)):\n",
    "        c = c + (y[i] - pred[i])**2\n",
    "        \n",
    "    # renvoie la somme du coût sur les sorties.    \n",
    "    return c"
   ]
  },
  {
   "cell_type": "code",
   "execution_count": 150,
   "id": "30ca6537",
   "metadata": {},
   "outputs": [
    {
     "data": {
      "text/plain": [
       "0.41759999999999986"
      ]
     },
     "execution_count": 150,
     "metadata": {},
     "output_type": "execute_result"
    }
   ],
   "source": [
    "# calcul de la fonction coût : \n",
    "cost(y, x, w)"
   ]
  },
  {
   "cell_type": "markdown",
   "id": "f881b72b",
   "metadata": {},
   "source": [
    "--- \n",
    "\n",
    "# Calculer le coût d'apprentissage\n",
    "\n",
    "C'est la moyenne de la fonction coût sur l'ensemble de l'apprentissage.\n",
    "\n",
    "`L(X,Y,w)=1/p*(C(X[0],Y[0],w)+C(X[1],Y[1],w)+…C(X[p–1],Y[p–1],w))`"
   ]
  },
  {
   "cell_type": "code",
   "execution_count": 192,
   "id": "94b21359",
   "metadata": {},
   "outputs": [],
   "source": [
    "# inputs\n",
    "x = [0.4, 0.9, 0.2]\n",
    "# si le poids est unique :  \n",
    "# w = 0.5\n",
    "# avec plusieurs poids :\n",
    "w = [0.2, 0.4, 0.2]\n",
    "# sorties désirées\n",
    "y = [0.0, 1.0, 0.0]"
   ]
  },
  {
   "cell_type": "code",
   "execution_count": 193,
   "id": "18a3c5a8",
   "metadata": {},
   "outputs": [],
   "source": [
    "# calculer le coût en fonction d'entrées : y, x, w\n",
    "def cost(y, x, w):\n",
    "    # calcul de la sortie\n",
    "    pred = x * w\n",
    "    \n",
    "    # coût initialisé à 0\n",
    "    c = 0\n",
    "    \n",
    "    # calculs de c\n",
    "    c = c + (y - pred)**2\n",
    "        \n",
    "    # renvoie la somme du coût sur les sorties.    \n",
    "    return c\n",
    "\n",
    "\n",
    "def learning_cost(y, x, w):\n",
    "    # somme des coûts\n",
    "    somme = 0\n",
    "    for i in range(len(x)):\n",
    "        somme = somme + cost(y[i], x[i], w[i])\n",
    "        \n",
    "    # coût moyen :\n",
    "    cout_moyen = somme / len(x)\n",
    "    \n",
    "    return cout_moyen"
   ]
  },
  {
   "cell_type": "code",
   "execution_count": 194,
   "id": "ecab478d",
   "metadata": {},
   "outputs": [
    {
     "data": {
      "text/plain": [
       "0.13919999999999996"
      ]
     },
     "execution_count": 194,
     "metadata": {},
     "output_type": "execute_result"
    }
   ],
   "source": [
    "learning_cost(y, x, w)"
   ]
  },
  {
   "cell_type": "markdown",
   "id": "039af229",
   "metadata": {},
   "source": [
    "La procédure d’apprentissage va tenter de minimiser ce coût en ajustant les paramètres w du système, c’est-à-dire en trouvant la valeur de w qui produit la plus petite valeur possible de L. \n",
    "\n",
    "Pour un ensemble d’exemples d’apprentissage donné, à chaque configuration des paramètres w, c’est-à-dire à chaque point, correspond une valeur du coût d’apprentissage.\n",
    "\n",
    "**Objectif :** Trouver le minimum de la fonction de coût avec la descente de gradient.\n",
    "\n",
    "Image de la vallée : La direction de la plus grande pente s’appelle le gradient de la fonction de coût. Le fond de la vallée est le minimum de la fonction de coût, et ses coordonnées sont les valeurs des paramètres qui minimisent le coût."
   ]
  }
 ],
 "metadata": {
  "kernelspec": {
   "display_name": "Python 3 (ipykernel)",
   "language": "python",
   "name": "python3"
  },
  "language_info": {
   "codemirror_mode": {
    "name": "ipython",
    "version": 3
   },
   "file_extension": ".py",
   "mimetype": "text/x-python",
   "name": "python",
   "nbconvert_exporter": "python",
   "pygments_lexer": "ipython3",
   "version": "3.8.3"
  }
 },
 "nbformat": 4,
 "nbformat_minor": 5
}

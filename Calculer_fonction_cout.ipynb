{
 "cells": [
  {
   "cell_type": "markdown",
   "id": "84fd7d43",
   "metadata": {},
   "source": [
    "# <center> Calculer la fonction coût </center>"
   ]
  },
  {
   "cell_type": "markdown",
   "id": "2f03a07f",
   "metadata": {},
   "source": [
    "## Calculer le carré de la différence entre sortie désirée - sortie obtenue\n",
    "\n",
    "`cost = (y - f(x, w)) ** 2`\n",
    "\n",
    "**Note :** Ne fonctionne que pour les scalaires, pas pour les vecteurs. "
   ]
  },
  {
   "cell_type": "code",
   "execution_count": 10,
   "id": "f2226129",
   "metadata": {},
   "outputs": [],
   "source": [
    "# Calculer la sortie \n",
    "def output(x, w):\n",
    "    # x * weights\n",
    "    return x * w\n",
    "\n",
    "# Calculer la fonction coût\n",
    "def cost_function(y, x, w):\n",
    "    cost = (y - output(x, w)) ** 2\n",
    "    return cost"
   ]
  },
  {
   "cell_type": "code",
   "execution_count": 11,
   "id": "3729c46e",
   "metadata": {},
   "outputs": [
    {
     "data": {
      "text/plain": [
       "0.75"
      ]
     },
     "execution_count": 11,
     "metadata": {},
     "output_type": "execute_result"
    }
   ],
   "source": [
    "# sortie obtenue : x * w\n",
    "output(1.5, 0.5)"
   ]
  },
  {
   "cell_type": "code",
   "execution_count": 13,
   "id": "51f5b384",
   "metadata": {},
   "outputs": [
    {
     "data": {
      "text/plain": [
       "0.0625"
      ]
     },
     "execution_count": 13,
     "metadata": {},
     "output_type": "execute_result"
    }
   ],
   "source": [
    "# fonction coût si y = 1\n",
    "cost_function(1, 1.5, 0.5)"
   ]
  },
  {
   "cell_type": "markdown",
   "id": "ef39bd43",
   "metadata": {},
   "source": [
    "## Calculer la fonction coût pour des vecteurs\n",
    "\n",
    "Le coût doit mesurer la distance entre la sortie obtenue et la sortie désirée, par exemple la somme des carrés des erreurs pour les trois sorties :"
   ]
  },
  {
   "cell_type": "code",
   "execution_count": 53,
   "id": "34eafdf1",
   "metadata": {},
   "outputs": [],
   "source": [
    "sortie = [0.4,0.9,0.2]\n",
    "w = [0.2, 0.4, 0.2]\n",
    "y = [0.0, 1.0, 0.0]\n",
    "\n",
    "def output(sortie, w):\n",
    "    liste = []\n",
    "    for i in range(len(sortie)):\n",
    "        calcul = sortie[i] * w[i]\n",
    "        liste.append(calcul)\n",
    "    return liste"
   ]
  },
  {
   "cell_type": "code",
   "execution_count": 55,
   "id": "af0ee76b",
   "metadata": {},
   "outputs": [
    {
     "name": "stdout",
     "output_type": "stream",
     "text": [
      "0.21000000000000005\n"
     ]
    }
   ],
   "source": [
    "output(sortie, w)  \n",
    "\n",
    "cost = (y[0] - sortie[0])**2 + (y[1] - sortie[1])**2 + (y[2] - sortie[2])**2\n",
    "print(cost)"
   ]
  },
  {
   "cell_type": "markdown",
   "id": "cad3b9e3",
   "metadata": {},
   "source": [
    "### Exemple de vecteur : produit de `x * w`"
   ]
  },
  {
   "cell_type": "code",
   "execution_count": 54,
   "id": "db6e64eb",
   "metadata": {},
   "outputs": [
    {
     "data": {
      "text/plain": [
       "[0.08000000000000002, 0.36000000000000004, 0.04000000000000001]"
      ]
     },
     "execution_count": 54,
     "metadata": {},
     "output_type": "execute_result"
    }
   ],
   "source": [
    "output(sortie, w)"
   ]
  },
  {
   "cell_type": "markdown",
   "id": "0c9126fe",
   "metadata": {},
   "source": [
    "### Exemple de calcul `x * w`"
   ]
  },
  {
   "cell_type": "code",
   "execution_count": 58,
   "id": "01fd1d89",
   "metadata": {},
   "outputs": [
    {
     "name": "stdout",
     "output_type": "stream",
     "text": [
      "0.4  *  0.2  =  0.08000000000000002\n",
      "0.9  *  0.4  =  0.36000000000000004\n",
      "0.2  *  0.2  =  0.04000000000000001\n",
      "\n",
      "Vecteur obtenu :  [0.08000000000000002, 0.36000000000000004, 0.04000000000000001]\n"
     ]
    }
   ],
   "source": [
    "# liste accueillant les produits\n",
    "liste = []\n",
    "\n",
    "# calculs\n",
    "for i in range(len(sortie)):\n",
    "    calcul = sortie[i] * w[i]\n",
    "    print(sortie[i], \" * \", w[i], \" = \", calcul)\n",
    "    # ajout au vecteur\n",
    "    liste.append(calcul)\n",
    "\n",
    "# affichage du vecteur\n",
    "print(\"\\nVecteur obtenu : \", liste)"
   ]
  },
  {
   "cell_type": "code",
   "execution_count": null,
   "id": "429c5333",
   "metadata": {},
   "outputs": [],
   "source": []
  }
 ],
 "metadata": {
  "kernelspec": {
   "display_name": "Python 3 (ipykernel)",
   "language": "python",
   "name": "python3"
  },
  "language_info": {
   "codemirror_mode": {
    "name": "ipython",
    "version": 3
   },
   "file_extension": ".py",
   "mimetype": "text/x-python",
   "name": "python",
   "nbconvert_exporter": "python",
   "pygments_lexer": "ipython3",
   "version": "3.8.3"
  }
 },
 "nbformat": 4,
 "nbformat_minor": 5
}

{
 "cells": [
  {
   "cell_type": "markdown",
   "id": "b9228dc2",
   "metadata": {},
   "source": [
    "# <center> Calculer la fonction coût </center>"
   ]
  },
  {
   "cell_type": "markdown",
   "id": "a95dd8ad",
   "metadata": {},
   "source": [
    "## Calculer le carré de la différence entre sortie désirée - sortie obtenue\n",
    "\n",
    "`cost = (y - f(x, w)) ** 2`\n",
    "\n",
    "**Note :** Ne fonctionne que pour les scalaires, pas pour les vecteurs. "
   ]
  },
  {
   "cell_type": "code",
   "execution_count": 10,
   "id": "b48cc96c",
   "metadata": {},
   "outputs": [],
   "source": [
    "# Calculer la sortie \n",
    "def output(x, w):\n",
    "    # x * weights\n",
    "    return x * w\n",
    "\n",
    "# Calculer la fonction coût\n",
    "def cost_function(y, x, w):\n",
    "    cost = (y - output(x, w)) ** 2\n",
    "    return cost"
   ]
  },
  {
   "cell_type": "code",
   "execution_count": 11,
   "id": "5400227b",
   "metadata": {},
   "outputs": [
    {
     "data": {
      "text/plain": [
       "0.75"
      ]
     },
     "execution_count": 11,
     "metadata": {},
     "output_type": "execute_result"
    }
   ],
   "source": [
    "# sortie obtenue : x * w\n",
    "output(1.5, 0.5)"
   ]
  },
  {
   "cell_type": "code",
   "execution_count": 13,
   "id": "c1637a68",
   "metadata": {},
   "outputs": [
    {
     "data": {
      "text/plain": [
       "0.0625"
      ]
     },
     "execution_count": 13,
     "metadata": {},
     "output_type": "execute_result"
    }
   ],
   "source": [
    "# fonction coût si y = 1\n",
    "cost_function(1, 1.5, 0.5)"
   ]
  },
  {
   "cell_type": "markdown",
   "id": "ce92b81a",
   "metadata": {},
   "source": [
    "## Calculer la fonction coût pour des vecteurs\n",
    "\n",
    "Le coût doit mesurer la distance entre la sortie obtenue et la sortie désirée, par exemple la somme des carrés des erreurs pour les trois sorties :"
   ]
  },
  {
   "cell_type": "code",
   "execution_count": 117,
   "id": "aaa296bd",
   "metadata": {},
   "outputs": [],
   "source": [
    "sortie = [0.4,0.9,0.2]\n",
    "w = [0.2, 0.4, 0.2]\n",
    "y = [0.0, 1.0, 0.0]\n",
    "\n",
    "def cost_f(x, w):\n",
    "    pred = []\n",
    "    for i in range(len(x)):\n",
    "        calcul = x[i] * w[i]\n",
    "        pred.append(calcul)\n",
    "    \n",
    "    cost = (y[0] - pred[0])**2 + (y[1] - pred[1])**2 + (y[2] - pred[2])**2\n",
    "    \n",
    "    return cost\n",
    "    "
   ]
  },
  {
   "cell_type": "code",
   "execution_count": 120,
   "id": "9070677d",
   "metadata": {},
   "outputs": [
    {
     "data": {
      "text/plain": [
       "0.41759999999999986"
      ]
     },
     "execution_count": 120,
     "metadata": {},
     "output_type": "execute_result"
    }
   ],
   "source": [
    "cost_f(sortie, w) "
   ]
  },
  {
   "cell_type": "markdown",
   "id": "7c50ab02",
   "metadata": {},
   "source": [
    "### Exemple de vecteur : produit de `x * w`"
   ]
  },
  {
   "cell_type": "code",
   "execution_count": 54,
   "id": "8513390b",
   "metadata": {},
   "outputs": [
    {
     "data": {
      "text/plain": [
       "[0.08000000000000002, 0.36000000000000004, 0.04000000000000001]"
      ]
     },
     "execution_count": 54,
     "metadata": {},
     "output_type": "execute_result"
    }
   ],
   "source": [
    "output(sortie, w)"
   ]
  },
  {
   "cell_type": "markdown",
   "id": "3051a124",
   "metadata": {},
   "source": [
    "### Exemple de calcul `x * w`"
   ]
  },
  {
   "cell_type": "code",
   "execution_count": 58,
   "id": "7a3a4cb5",
   "metadata": {},
   "outputs": [
    {
     "name": "stdout",
     "output_type": "stream",
     "text": [
      "0.4  *  0.2  =  0.08000000000000002\n",
      "0.9  *  0.4  =  0.36000000000000004\n",
      "0.2  *  0.2  =  0.04000000000000001\n",
      "\n",
      "Vecteur obtenu :  [0.08000000000000002, 0.36000000000000004, 0.04000000000000001]\n"
     ]
    }
   ],
   "source": [
    "# liste accueillant les produits\n",
    "liste = []\n",
    "\n",
    "# calculs\n",
    "for i in range(len(sortie)):\n",
    "    calcul = sortie[i] * w[i]\n",
    "    print(sortie[i], \" * \", w[i], \" = \", calcul)\n",
    "    # ajout au vecteur\n",
    "    liste.append(calcul)\n",
    "\n",
    "# affichage du vecteur\n",
    "print(\"\\nVecteur obtenu : \", liste)"
   ]
  },
  {
   "cell_type": "markdown",
   "id": "98bd95e6",
   "metadata": {},
   "source": [
    "## Fonction complète"
   ]
  },
  {
   "cell_type": "code",
   "execution_count": 89,
   "id": "cc30f928",
   "metadata": {},
   "outputs": [],
   "source": [
    "sortie = [0.4,0.9,0.2]\n",
    "w = [0.2, 0.4, 0.2]\n",
    "y = [0.0, 1.0, 0.0]\n",
    "\n",
    "def cost(y, x, w):\n",
    "    # calcul de la sortie\n",
    "    pred = output(x, w)\n",
    "    \n",
    "    # coût initialisé à 0\n",
    "    c = 0\n",
    "    \n",
    "    # calculs de c\n",
    "    for i in range(len(y)):\n",
    "        c = c + (y[i] - pred[i])**2\n",
    "        print(c)\n",
    "        \n",
    "    # renvoie la somme du coût sur les sorties.    \n",
    "    return c"
   ]
  },
  {
   "cell_type": "code",
   "execution_count": 90,
   "id": "c8307869",
   "metadata": {},
   "outputs": [
    {
     "name": "stdout",
     "output_type": "stream",
     "text": [
      "[0.08000000000000002, 0.36000000000000004, 0.04000000000000001]\n",
      "0.006400000000000003\n",
      "0.41599999999999987\n",
      "0.41759999999999986\n"
     ]
    },
    {
     "data": {
      "text/plain": [
       "0.41759999999999986"
      ]
     },
     "execution_count": 90,
     "metadata": {},
     "output_type": "execute_result"
    }
   ],
   "source": [
    "cost(y, sortie, w)"
   ]
  },
  {
   "cell_type": "code",
   "execution_count": 100,
   "id": "05cab27c",
   "metadata": {},
   "outputs": [
    {
     "name": "stdout",
     "output_type": "stream",
     "text": [
      "[0.08000000000000002, 0.36000000000000004, 0.04000000000000001]\n",
      "0.21000000000000005\n"
     ]
    }
   ],
   "source": [
    "sortie = [0.4,0.9,0.2]\n",
    "w = [0.2, 0.4, 0.2]\n",
    "y = [0.0, 1.0, 0.0]\n",
    "\n",
    "def output(x, w):\n",
    "    liste = []\n",
    "    for i in range(len(x)):\n",
    "        calcul = x[i] * w[i]\n",
    "        liste.append(calcul)\n",
    "    print(liste)\n",
    "    return liste\n",
    "\n",
    "output(sortie, w)  \n",
    "\n",
    "cost = (y[0] - sortie[0])**2 + (y[1] - sortie[1])**2 + (y[2] - sortie[2])**2\n",
    "print(cost)"
   ]
  },
  {
   "cell_type": "code",
   "execution_count": 101,
   "id": "d6591505",
   "metadata": {},
   "outputs": [
    {
     "data": {
      "text/plain": [
       "[0.08000000000000002, 0.36000000000000004, 0.04000000000000001]"
      ]
     },
     "execution_count": 101,
     "metadata": {},
     "output_type": "execute_result"
    }
   ],
   "source": [
    "liste"
   ]
  },
  {
   "cell_type": "code",
   "execution_count": 102,
   "id": "7f4d09c9",
   "metadata": {},
   "outputs": [
    {
     "name": "stdout",
     "output_type": "stream",
     "text": [
      "0.41759999999999986\n"
     ]
    }
   ],
   "source": [
    "a = (y[0] - liste[0])**2\n",
    "b = (y[1] - liste[1])**2\n",
    "c = (y[2] - liste[2])**2\n",
    "\n",
    "cost = ( a +  b + c )\n",
    "print(cost)"
   ]
  },
  {
   "cell_type": "code",
   "execution_count": null,
   "id": "1ee3d653",
   "metadata": {},
   "outputs": [],
   "source": []
  }
 ],
 "metadata": {
  "kernelspec": {
   "display_name": "Python 3 (ipykernel)",
   "language": "python",
   "name": "python3"
  },
  "language_info": {
   "codemirror_mode": {
    "name": "ipython",
    "version": 3
   },
   "file_extension": ".py",
   "mimetype": "text/x-python",
   "name": "python",
   "nbconvert_exporter": "python",
   "pygments_lexer": "ipython3",
   "version": "3.8.3"
  }
 },
 "nbformat": 4,
 "nbformat_minor": 5
}

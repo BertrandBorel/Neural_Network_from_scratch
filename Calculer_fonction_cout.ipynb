{
 "cells": [
  {
   "cell_type": "markdown",
   "id": "1e03006d",
   "metadata": {},
   "source": [
    "# <center> Calculer la fonction coût </center>"
   ]
  },
  {
   "cell_type": "markdown",
   "id": "fcad5d26",
   "metadata": {},
   "source": [
    "## Calculer le carré de la différence entre sortie désirée - sortie obtenue\n",
    "\n",
    "`cost = (y - f(x, w)) ** 2`\n",
    "\n",
    "**Note :** Ne fonctionne que pour les scalaires, pas pour les vecteurs. "
   ]
  },
  {
   "cell_type": "code",
   "execution_count": 10,
   "id": "78cf4b18",
   "metadata": {},
   "outputs": [],
   "source": [
    "# Calculer la sortie \n",
    "def output(x, w):\n",
    "    # x * weights\n",
    "    return x * w\n",
    "\n",
    "# Calculer la fonction coût\n",
    "def cost_function(y, x, w):\n",
    "    cost = (y - output(x, w)) ** 2\n",
    "    return cost"
   ]
  },
  {
   "cell_type": "code",
   "execution_count": 11,
   "id": "23210413",
   "metadata": {},
   "outputs": [
    {
     "data": {
      "text/plain": [
       "0.75"
      ]
     },
     "execution_count": 11,
     "metadata": {},
     "output_type": "execute_result"
    }
   ],
   "source": [
    "# sortie obtenue : x * w\n",
    "output(1.5, 0.5)"
   ]
  },
  {
   "cell_type": "code",
   "execution_count": 13,
   "id": "812a4e71",
   "metadata": {},
   "outputs": [
    {
     "data": {
      "text/plain": [
       "0.0625"
      ]
     },
     "execution_count": 13,
     "metadata": {},
     "output_type": "execute_result"
    }
   ],
   "source": [
    "# fonction coût si y = 1\n",
    "cost_function(1, 1.5, 0.5)"
   ]
  },
  {
   "cell_type": "markdown",
   "id": "bda116f1",
   "metadata": {},
   "source": [
    "## Calculer la fonction coût pour des vecteurs\n",
    "\n",
    "Le coût doit mesurer la distance entre la sortie obtenue et la sortie désirée, par exemple la somme des carrés des erreurs pour les trois sorties :"
   ]
  },
  {
   "cell_type": "code",
   "execution_count": 117,
   "id": "effffe65",
   "metadata": {},
   "outputs": [],
   "source": [
    "sortie = [0.4,0.9,0.2]\n",
    "w = [0.2, 0.4, 0.2]\n",
    "y = [0.0, 1.0, 0.0]\n",
    "\n",
    "def cost_f(x, w):\n",
    "    pred = []\n",
    "    for i in range(len(x)):\n",
    "        calcul = x[i] * w[i]\n",
    "        pred.append(calcul)\n",
    "    \n",
    "    cost = (y[0] - pred[0])**2 + (y[1] - pred[1])**2 + (y[2] - pred[2])**2\n",
    "    \n",
    "    return cost"
   ]
  },
  {
   "cell_type": "code",
   "execution_count": 120,
   "id": "f0666257",
   "metadata": {},
   "outputs": [
    {
     "data": {
      "text/plain": [
       "0.41759999999999986"
      ]
     },
     "execution_count": 120,
     "metadata": {},
     "output_type": "execute_result"
    }
   ],
   "source": [
    "cost_f(sortie, w) "
   ]
  },
  {
   "cell_type": "markdown",
   "id": "877ec723",
   "metadata": {},
   "source": [
    "### Exemple de vecteur : produit de `x * w`"
   ]
  },
  {
   "cell_type": "code",
   "execution_count": 54,
   "id": "f251e2e9",
   "metadata": {},
   "outputs": [
    {
     "data": {
      "text/plain": [
       "[0.08000000000000002, 0.36000000000000004, 0.04000000000000001]"
      ]
     },
     "execution_count": 54,
     "metadata": {},
     "output_type": "execute_result"
    }
   ],
   "source": [
    "output(sortie, w)"
   ]
  },
  {
   "cell_type": "markdown",
   "id": "27447bb7",
   "metadata": {},
   "source": [
    "### Exemple de calcul `x * w`"
   ]
  },
  {
   "cell_type": "code",
   "execution_count": 58,
   "id": "fe254daa",
   "metadata": {},
   "outputs": [
    {
     "name": "stdout",
     "output_type": "stream",
     "text": [
      "0.4  *  0.2  =  0.08000000000000002\n",
      "0.9  *  0.4  =  0.36000000000000004\n",
      "0.2  *  0.2  =  0.04000000000000001\n",
      "\n",
      "Vecteur obtenu :  [0.08000000000000002, 0.36000000000000004, 0.04000000000000001]\n"
     ]
    }
   ],
   "source": [
    "# liste accueillant les produits\n",
    "liste = []\n",
    "\n",
    "# calculs\n",
    "for i in range(len(sortie)):\n",
    "    calcul = sortie[i] * w[i]\n",
    "    print(sortie[i], \" * \", w[i], \" = \", calcul)\n",
    "    # ajout au vecteur\n",
    "    liste.append(calcul)\n",
    "\n",
    "# affichage du vecteur\n",
    "print(\"\\nVecteur obtenu : \", liste)"
   ]
  },
  {
   "cell_type": "markdown",
   "id": "6fd5e9c8",
   "metadata": {},
   "source": [
    "## Fonction complète"
   ]
  },
  {
   "cell_type": "code",
   "execution_count": 132,
   "id": "6bce56ad",
   "metadata": {},
   "outputs": [],
   "source": [
    "# inputs\n",
    "x = [0.4,0.9,0.2]\n",
    "# poids\n",
    "w = [0.2, 0.4, 0.2]\n",
    "# sorties désirées\n",
    "y = [0.0, 1.0, 0.0]\n",
    "\n",
    "def output(x, w):\n",
    "    vecteur = []\n",
    "    for i in range(len(x)):\n",
    "        calcul = x[i] * w[i]\n",
    "        vecteur.append(calcul)\n",
    "\n",
    "    return liste\n",
    "\n",
    "def cost(y, x, w):\n",
    "    # calcul de la sortie\n",
    "    pred = output(x, w)\n",
    "    \n",
    "    # coût initialisé à 0\n",
    "    c = 0\n",
    "    \n",
    "    # calculs de c\n",
    "    for i in range(len(y)):\n",
    "        c = c + (y[i] - pred[i])**2\n",
    "        \n",
    "    # renvoie la somme du coût sur les sorties.    \n",
    "    return c"
   ]
  },
  {
   "cell_type": "code",
   "execution_count": 133,
   "id": "e50d146c",
   "metadata": {},
   "outputs": [
    {
     "data": {
      "text/plain": [
       "0.41759999999999986"
      ]
     },
     "execution_count": 133,
     "metadata": {},
     "output_type": "execute_result"
    }
   ],
   "source": [
    "# calcul de la fonction coût : \n",
    "cost(y, x, w)"
   ]
  }
 ],
 "metadata": {
  "kernelspec": {
   "display_name": "Python 3 (ipykernel)",
   "language": "python",
   "name": "python3"
  },
  "language_info": {
   "codemirror_mode": {
    "name": "ipython",
    "version": 3
   },
   "file_extension": ".py",
   "mimetype": "text/x-python",
   "name": "python",
   "nbconvert_exporter": "python",
   "pygments_lexer": "ipython3",
   "version": "3.8.3"
  }
 },
 "nbformat": 4,
 "nbformat_minor": 5
}

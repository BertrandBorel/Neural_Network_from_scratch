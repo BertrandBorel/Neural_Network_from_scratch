{
 "cells": [
  {
   "cell_type": "markdown",
   "id": "3fc8bb47",
   "metadata": {},
   "source": [
    "# <center> Réseau de neurones avec Python </center>\n",
    "\n",
    "# <center> Propagation avant </center>"
   ]
  },
  {
   "attachments": {},
   "cell_type": "markdown",
   "id": "adfe8b03",
   "metadata": {},
   "source": [
    "## Structure du réseau\n",
    "\n",
    "![propagation.PNG](propagation.PNG)"
   ]
  },
  {
   "cell_type": "code",
   "execution_count": 150,
   "id": "5ccc2a3f",
   "metadata": {},
   "outputs": [
    {
     "data": {
      "text/plain": [
       "<matplotlib.image.AxesImage at 0x1cf16696e20>"
      ]
     },
     "execution_count": 150,
     "metadata": {},
     "output_type": "execute_result"
    },
    {
     "data": {
      "image/png": "[encoded data removed]",
      "text/plain": [
       "<Figure size 432x288 with 1 Axes>"
      ]
     },
     "metadata": {
      "needs_background": "light"
     },
     "output_type": "display_data"
    }
   ],
   "source": [
    "import matplotlib.image as mpimg\n",
    "import matplotlib.pyplot as plt\n",
    " \n",
    "# Read Images\n",
    "img = mpimg.imread('propagation.png')\n",
    " \n",
    "# Output Images\n",
    "plt.imshow(img)"
   ]
  },
  {
   "cell_type": "markdown",
   "id": "5dc7735b",
   "metadata": {},
   "source": [
    "## Initialisation des variables"
   ]
  },
  {
   "cell_type": "code",
   "execution_count": 139,
   "id": "1da696a7",
   "metadata": {},
   "outputs": [],
   "source": [
    "# entrées = 2 neurones\n",
    "x1 = 1\n",
    "x2 = 2\n",
    "\n",
    "# sortie = 1 neurone\n",
    "# La sortie attendue est 1.\n",
    "\n",
    "# 2 couches cachées de 2 neurones soit 4 neurones \n",
    "\n",
    "# 7 neurones en tout\n",
    "\n",
    "# poids synaptiques\n",
    "w1 = [2, 1, 2, 1]   # poids s'appliquant aux entrées\n",
    "w2 = [1, 1, 1, 2]   # poids s'appliquant à la 1ère couche\n",
    "w3 = [1, 2]         # poids s'appliquant à la 2ème couche"
   ]
  },
  {
   "cell_type": "markdown",
   "id": "88f3cbfd",
   "metadata": {},
   "source": [
    "## Calcul de la première couche \n",
    "\n",
    "Les données sont propagées dans le réseau. On applique tout d'abord une somme pondérée : \n",
    "\n",
    "`h1 = (x1 * w1) + (x1 * w3)`\n",
    "\n",
    "`h2 = (x2 * w2) + (x1 * w4)`"
   ]
  },
  {
   "cell_type": "code",
   "execution_count": 140,
   "id": "6c739c09",
   "metadata": {},
   "outputs": [
    {
     "name": "stdout",
     "output_type": "stream",
     "text": [
      "Valeur du permier neurone : 6\n",
      "Valeur du deuxième neurone : 3\n"
     ]
    }
   ],
   "source": [
    "# premier neurone\n",
    "h1 = (x1 * w1[0]) + (x2 * w1[2])\n",
    "\n",
    "# deuxième neurone\n",
    "h2 = (x1 * w1[1]) + (x2 * w1[3])\n",
    "\n",
    "# valeur des neurones :\n",
    "print(\"Valeur du permier neurone : \" + str(h1), \"Valeur du deuxième neurone : \" + str(h2), sep=\"\\n\")"
   ]
  },
  {
   "cell_type": "markdown",
   "id": "45433897",
   "metadata": {},
   "source": [
    "### Fonction d'activation :"
   ]
  },
  {
   "cell_type": "code",
   "execution_count": 141,
   "id": "b3372d08",
   "metadata": {},
   "outputs": [],
   "source": [
    "import math\n",
    "\n",
    "# fonction d'activation (sigmoïde)\n",
    "def sigmoid(x):\n",
    "    return 1/(1 + math.pow(math.e, (-1 * x)) )"
   ]
  },
  {
   "cell_type": "code",
   "execution_count": 142,
   "id": "010099af",
   "metadata": {},
   "outputs": [],
   "source": [
    "# application de la fonction d'activation\n",
    "h1 = sigmoid(h1)\n",
    "h2 = sigmoid(h2)"
   ]
  },
  {
   "cell_type": "markdown",
   "id": "8e32cf09",
   "metadata": {},
   "source": [
    "### Résultat pour la première couche : "
   ]
  },
  {
   "cell_type": "code",
   "execution_count": 143,
   "id": "7b780a23",
   "metadata": {},
   "outputs": [
    {
     "name": "stdout",
     "output_type": "stream",
     "text": [
      "Résultats des neurones :\n",
      "\n",
      "1er neurone : 0.9975273768433653\n",
      "2ème neurone : 0.9525741268224331\n"
     ]
    }
   ],
   "source": [
    "print(\"Résultats des neurones :\\n\")\n",
    "print(\"1er neurone : \" + str(h1), \"2ème neurone : \" + str(h2), sep=\"\\n\")"
   ]
  },
  {
   "cell_type": "markdown",
   "id": "8901b421",
   "metadata": {},
   "source": [
    "## Calcul de la deuxième couche : "
   ]
  },
  {
   "cell_type": "code",
   "execution_count": 144,
   "id": "17153d29",
   "metadata": {},
   "outputs": [
    {
     "name": "stdout",
     "output_type": "stream",
     "text": [
      "Valeur du 3ème neurone : 1.9501015036657985\n",
      "Valeur du 4ème neurone : 2.9026756304882317\n"
     ]
    }
   ],
   "source": [
    "# troisième neurone\n",
    "h3 = (h1 * w2[0]) + (h2 * w2[2])\n",
    "\n",
    "# quatrième neurone\n",
    "h4 = (h1 * w2[1]) + (h2 * w2[3])\n",
    "\n",
    "# valeur des neurones :\n",
    "print(\"Valeur du 3ème neurone : \" + str(h3), \"Valeur du 4ème neurone : \" + str(h4), sep=\"\\n\")"
   ]
  },
  {
   "cell_type": "markdown",
   "id": "1261d219",
   "metadata": {},
   "source": [
    "### Fonction d'activation : "
   ]
  },
  {
   "cell_type": "code",
   "execution_count": 145,
   "id": "ae4d2851",
   "metadata": {},
   "outputs": [],
   "source": [
    "# application de la fonction d'activation\n",
    "h3 = sigmoid(h3)\n",
    "h4 = sigmoid(h4)"
   ]
  },
  {
   "cell_type": "markdown",
   "id": "a7205608",
   "metadata": {},
   "source": [
    "### Résultat pour la deuxième couche :"
   ]
  },
  {
   "cell_type": "code",
   "execution_count": 146,
   "id": "c86eb1c8",
   "metadata": {},
   "outputs": [
    {
     "name": "stdout",
     "output_type": "stream",
     "text": [
      "Résultats des neurones :\n",
      "\n",
      "3ème neurone : 0.8754577093321615\n",
      "4ème neurone : 0.9479785445061939\n"
     ]
    }
   ],
   "source": [
    "print(\"Résultats des neurones :\\n\")\n",
    "print(\"3ème neurone : \" + str(h3), \"4ème neurone : \" + str(h4), sep=\"\\n\")"
   ]
  },
  {
   "cell_type": "markdown",
   "id": "5a423130",
   "metadata": {},
   "source": [
    "## Calcul de la sortie :"
   ]
  },
  {
   "cell_type": "code",
   "execution_count": 147,
   "id": "1a198987",
   "metadata": {},
   "outputs": [
    {
     "name": "stdout",
     "output_type": "stream",
     "text": [
      "2.771414798344549\n"
     ]
    }
   ],
   "source": [
    "# sortie\n",
    "sortie = (h3 * w3[0]) + (h4 * w3[1])\n",
    "print(sortie)"
   ]
  },
  {
   "cell_type": "code",
   "execution_count": 148,
   "id": "ea0d99f6",
   "metadata": {},
   "outputs": [
    {
     "name": "stdout",
     "output_type": "stream",
     "text": [
      "La sortie est :  0.9411114445918657\n"
     ]
    }
   ],
   "source": [
    "sortie = sigmoid(sortie)\n",
    "print(\"La sortie est : \", sortie)"
   ]
  },
  {
   "cell_type": "markdown",
   "id": "4565992d",
   "metadata": {},
   "source": [
    "## Résultat final :\n",
    "\n",
    "La sortie attendue était 1. Il faut à présent calculer l'erreur et la rétropropager dans le réseau."
   ]
  }
 ],
 "metadata": {
  "kernelspec": {
   "display_name": "Python 3 (ipykernel)",
   "language": "python",
   "name": "python3"
  },
  "language_info": {
   "codemirror_mode": {
    "name": "ipython",
    "version": 3
   },
   "file_extension": ".py",
   "mimetype": "text/x-python",
   "name": "python",
   "nbconvert_exporter": "python",
   "pygments_lexer": "ipython3",
   "version": "3.8.3"
  }
 },
 "nbformat": 4,
 "nbformat_minor": 5
}

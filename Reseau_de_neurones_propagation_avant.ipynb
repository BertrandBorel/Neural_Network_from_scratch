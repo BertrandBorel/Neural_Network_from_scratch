{
 "cells": [
  {
   "cell_type": "markdown",
   "id": "442732b2",
   "metadata": {},
   "source": [
    "# <center> Réseau de neurones avec Python </center>\n",
    "\n",
    "# <center> Propagation avant </center>"
   ]
  },
  {
   "attachments": {},
   "cell_type": "markdown",
   "id": "f55a08c6",
   "metadata": {},
   "source": [
    "## Structure du réseau\n",
    "\n",
    "![propagation.PNG](propagation.PNG)"
   ]
  },
  {
   "cell_type": "markdown",
   "id": "b60875c5",
   "metadata": {},
   "source": [
    "## Initialisation des variables"
   ]
  },
  {
   "cell_type": "code",
   "execution_count": 139,
   "id": "566f618f",
   "metadata": {},
   "outputs": [],
   "source": [
    "# entrées = 2 neurones\n",
    "x1 = 1\n",
    "x2 = 2\n",
    "\n",
    "# sortie = 1 neurone\n",
    "\n",
    "# 2 couches cachées de 2 neurones soit 4 neurones \n",
    "\n",
    "# 7 neurones en tout\n",
    "\n",
    "# poids synaptiques\n",
    "w1 = [2, 1, 2, 1]   # poids s'appliquant aux entrées\n",
    "w2 = [1, 1, 1, 2]   # poids s'appliquant à la 1ère couche\n",
    "w3 = [1, 2]         # poids s'appliquant à la 2ème couche"
   ]
  },
  {
   "cell_type": "markdown",
   "id": "632c1ede",
   "metadata": {},
   "source": [
    "## Calcul de la première couche \n",
    "\n",
    "Les données sont propagées dans le réseau. On applique tout d'abord une somme pondérée : \n",
    "\n",
    "`h1 = (x1 * w1) + (x1 * w3)`\n",
    "\n",
    "`h2 = (x2 * w2) + (x1 * w4)`"
   ]
  },
  {
   "cell_type": "code",
   "execution_count": 140,
   "id": "2ecc91f4",
   "metadata": {},
   "outputs": [
    {
     "name": "stdout",
     "output_type": "stream",
     "text": [
      "Valeur du permier neurone : 6\n",
      "Valeur du deuxième neurone : 3\n"
     ]
    }
   ],
   "source": [
    "# premier neurone\n",
    "h1 = (x1 * w1[0]) + (x2 * w1[2])\n",
    "\n",
    "# deuxième neurone\n",
    "h2 = (x1 * w1[1]) + (x2 * w1[3])\n",
    "\n",
    "# valeur des neurones :\n",
    "print(\"Valeur du permier neurone : \" + str(h1), \"Valeur du deuxième neurone : \" + str(h2), sep=\"\\n\")"
   ]
  },
  {
   "cell_type": "markdown",
   "id": "e29481a6",
   "metadata": {},
   "source": [
    "### Fonction d'activation :"
   ]
  },
  {
   "cell_type": "code",
   "execution_count": 141,
   "id": "b25be73a",
   "metadata": {},
   "outputs": [],
   "source": [
    "import math\n",
    "\n",
    "# fonction d'activation (sigmoïde)\n",
    "def sigmoid(x):\n",
    "    return 1/(1 + math.pow(math.e, (-1 * x)) )"
   ]
  },
  {
   "cell_type": "code",
   "execution_count": 142,
   "id": "c870a82e",
   "metadata": {},
   "outputs": [],
   "source": [
    "# application de la fonction d'activation\n",
    "h1 = sigmoid(h1)\n",
    "h2 = sigmoid(h2)"
   ]
  },
  {
   "cell_type": "markdown",
   "id": "e7c35c76",
   "metadata": {},
   "source": [
    "### Résultat pour la première couche : "
   ]
  },
  {
   "cell_type": "code",
   "execution_count": 143,
   "id": "b45006c7",
   "metadata": {},
   "outputs": [
    {
     "name": "stdout",
     "output_type": "stream",
     "text": [
      "Résultats des neurones :\n",
      "\n",
      "1er neurone : 0.9975273768433653\n",
      "2ème neurone : 0.9525741268224331\n"
     ]
    }
   ],
   "source": [
    "print(\"Résultats des neurones :\\n\")\n",
    "print(\"1er neurone : \" + str(h1), \"2ème neurone : \" + str(h2), sep=\"\\n\")"
   ]
  },
  {
   "cell_type": "markdown",
   "id": "eef38609",
   "metadata": {},
   "source": [
    "## Calcul de la deuxième couche : "
   ]
  },
  {
   "cell_type": "code",
   "execution_count": 144,
   "id": "e0d8c819",
   "metadata": {},
   "outputs": [
    {
     "name": "stdout",
     "output_type": "stream",
     "text": [
      "Valeur du 3ème neurone : 1.9501015036657985\n",
      "Valeur du 4ème neurone : 2.9026756304882317\n"
     ]
    }
   ],
   "source": [
    "# troisième neurone\n",
    "h3 = (h1 * w2[0]) + (h2 * w2[2])\n",
    "\n",
    "# quatrième neurone\n",
    "h4 = (h1 * w2[1]) + (h2 * w2[3])\n",
    "\n",
    "# valeur des neurones :\n",
    "print(\"Valeur du 3ème neurone : \" + str(h3), \"Valeur du 4ème neurone : \" + str(h4), sep=\"\\n\")"
   ]
  },
  {
   "cell_type": "markdown",
   "id": "1411198d",
   "metadata": {},
   "source": [
    "### Fonction d'activation : "
   ]
  },
  {
   "cell_type": "code",
   "execution_count": 145,
   "id": "cc3dcb40",
   "metadata": {},
   "outputs": [],
   "source": [
    "# application de la fonction d'activation\n",
    "h3 = sigmoid(h3)\n",
    "h4 = sigmoid(h4)"
   ]
  },
  {
   "cell_type": "markdown",
   "id": "f4c4e1e8",
   "metadata": {},
   "source": [
    "### Résultat pour la deuxième couche :"
   ]
  },
  {
   "cell_type": "code",
   "execution_count": 146,
   "id": "f3af8572",
   "metadata": {},
   "outputs": [
    {
     "name": "stdout",
     "output_type": "stream",
     "text": [
      "Résultats des neurones :\n",
      "\n",
      "3ème neurone : 0.8754577093321615\n",
      "4ème neurone : 0.9479785445061939\n"
     ]
    }
   ],
   "source": [
    "print(\"Résultats des neurones :\\n\")\n",
    "print(\"3ème neurone : \" + str(h3), \"4ème neurone : \" + str(h4), sep=\"\\n\")"
   ]
  },
  {
   "cell_type": "markdown",
   "id": "7b510357",
   "metadata": {},
   "source": [
    "## Calcul de la sortie :"
   ]
  },
  {
   "cell_type": "code",
   "execution_count": 147,
   "id": "2a4e5d4d",
   "metadata": {},
   "outputs": [
    {
     "name": "stdout",
     "output_type": "stream",
     "text": [
      "2.771414798344549\n"
     ]
    }
   ],
   "source": [
    "# sortie\n",
    "sortie = (h3 * w3[0]) + (h4 * w3[1])\n",
    "print(sortie)"
   ]
  },
  {
   "cell_type": "code",
   "execution_count": 148,
   "id": "29e99b5b",
   "metadata": {},
   "outputs": [
    {
     "name": "stdout",
     "output_type": "stream",
     "text": [
      "La sortie est :  0.9411114445918657\n"
     ]
    }
   ],
   "source": [
    "sortie = sigmoid(sortie)\n",
    "print(\"La sortie est : \", sortie)"
   ]
  },
  {
   "cell_type": "markdown",
   "id": "3acbe52b",
   "metadata": {},
   "source": [
    "## Résultat final :"
   ]
  },
  {
   "cell_type": "code",
   "execution_count": 149,
   "id": "5128826c",
   "metadata": {},
   "outputs": [
    {
     "name": "stdout",
     "output_type": "stream",
     "text": [
      "Le résultat final est :  1\n"
     ]
    }
   ],
   "source": [
    "# calcul binaire (0 ou 1)\n",
    "if sortie > 0.5 :\n",
    "    resultat_final = 1\n",
    "else :\n",
    "    resultat_final = 0\n",
    "    \n",
    "print(\"Le résultat final est : \", resultat_final)"
   ]
  }
 ],
 "metadata": {
  "kernelspec": {
   "display_name": "Python 3 (ipykernel)",
   "language": "python",
   "name": "python3"
  },
  "language_info": {
   "codemirror_mode": {
    "name": "ipython",
    "version": 3
   },
   "file_extension": ".py",
   "mimetype": "text/x-python",
   "name": "python",
   "nbconvert_exporter": "python",
   "pygments_lexer": "ipython3",
   "version": "3.8.3"
  }
 },
 "nbformat": 4,
 "nbformat_minor": 5
}
